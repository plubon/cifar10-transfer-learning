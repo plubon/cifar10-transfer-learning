{
 "cells": [
  {
   "cell_type": "markdown",
   "metadata": {},
   "source": [
    "## Dataset download"
   ]
  },
  {
   "cell_type": "code",
   "execution_count": 1,
   "metadata": {},
   "outputs": [],
   "source": [
    "%matplotlib inline\n",
    "import os\n",
    "import urllib.request\n",
    "import pickle\n",
    "import tarfile\n",
    "import ntpath\n",
    "\n",
    "if not os.path.exists('data'):\n",
    "    os.makedirs('data')\n",
    "if not os.path.exists(os.path.join('data','cifar-10-python.tar.gz')):\n",
    "    urllib.request.urlretrieve('https://www.cs.toronto.edu/~kriz/cifar-10-python.tar.gz', os.path.join('data','cifar-10-python.tar.gz'))"
   ]
  },
  {
   "cell_type": "markdown",
   "metadata": {},
   "source": [
    "## Reading from the archive"
   ]
  },
  {
   "cell_type": "code",
   "execution_count": 2,
   "metadata": {},
   "outputs": [
    {
     "name": "stdout",
     "output_type": "stream",
     "text": [
      "(10000, 3072)\n",
      "10000\n",
      "10000\n",
      "b'testing batch 1 of 1'\n"
     ]
    }
   ],
   "source": [
    "batch_filenames = ['data_batch_1', 'data_batch_2', 'data_batch_3', 'data_batch_4', 'data_batch_5']\n",
    "test_filename = 'test_batch'\n",
    "    \n",
    "batches = []\n",
    "test_batch = None\n",
    "\n",
    "with tarfile.open(os.path.join('data','cifar-10-python.tar.gz'), 'r:gz') as tar_file:\n",
    "    for file_info in tar_file.getmembers():\n",
    "        file = tar_file.extractfile(file_info)\n",
    "        if file is not None:\n",
    "            if ntpath.basename(file_info.name) in batch_filenames:\n",
    "                batch = pickle.load(file, encoding='bytes')\n",
    "                batches.append(batch)\n",
    "            if ntpath.basename(file_info.name) == test_filename:\n",
    "                test_batch = pickle.load(file, encoding='bytes')\n",
    "\n",
    "print(test_batch[b'data'].shape)\n",
    "print(len(test_batch[b'filenames']))\n",
    "print(len(test_batch[b'labels']))\n",
    "print(test_batch[b'batch_label'])\n"
   ]
  },
  {
   "cell_type": "code",
   "execution_count": 3,
   "metadata": {},
   "outputs": [
    {
     "name": "stdout",
     "output_type": "stream",
     "text": [
      "            b'batch_label'                                            b'data'  \\\n",
      "0  b'testing batch 1 of 1'  [158, 159, 165, 166, 160, 156, 162, 159, 158, ...   \n",
      "1  b'testing batch 1 of 1'  [235, 231, 232, 232, 232, 232, 232, 232, 232, ...   \n",
      "2  b'testing batch 1 of 1'  [158, 158, 139, 132, 166, 182, 187, 193, 199, ...   \n",
      "3  b'testing batch 1 of 1'  [155, 167, 176, 190, 177, 166, 168, 166, 170, ...   \n",
      "4  b'testing batch 1 of 1'  [65, 70, 48, 30, 23, 40, 44, 45, 45, 40, 10, 1...   \n",
      "\n",
      "                   b'filenames'  b'labels'  \n",
      "0  b'domestic_cat_s_000907.png'          3  \n",
      "1     b'hydrofoil_s_000078.png'          8  \n",
      "2      b'sea_boat_s_001456.png'          8  \n",
      "3      b'jetliner_s_001705.png'          0  \n",
      "4    b'green_frog_s_001658.png'          6  \n"
     ]
    }
   ],
   "source": [
    "import pandas as pd\n",
    "\n",
    "test_batch[b'data'] = test_batch[b'data'].tolist()\n",
    "test_batch[b'batch_label'] = [test_batch[b'batch_label']] * len(test_batch[b'labels'])\n",
    "\n",
    "df = pd.DataFrame.from_dict(test_batch)\n",
    "print(df.head())"
   ]
  },
  {
   "cell_type": "code",
   "execution_count": 4,
   "metadata": {},
   "outputs": [],
   "source": [
    "for batch in batches:\n",
    "    batch[b'data'] = batch[b'data'].tolist()\n",
    "    batch[b'batch_label'] = [batch[b'batch_label']] * len(batch[b'labels'])\n",
    "    df = df.append(pd.DataFrame.from_dict(batch), ignore_index=True)"
   ]
  },
  {
   "cell_type": "code",
   "execution_count": 5,
   "metadata": {},
   "outputs": [
    {
     "name": "stdout",
     "output_type": "stream",
     "text": [
      "<class 'pandas.core.frame.DataFrame'>\n",
      "RangeIndex: 60000 entries, 0 to 59999\n",
      "Data columns (total 5 columns):\n",
      "b'batch_label'    60000 non-null object\n",
      "b'data'           60000 non-null object\n",
      "b'filenames'      60000 non-null object\n",
      "b'labels'         60000 non-null int64\n",
      "is_test           60000 non-null bool\n",
      "dtypes: bool(1), int64(1), object(3)\n",
      "memory usage: 1.9+ MB\n",
      "None\n",
      "            b'batch_label'                                            b'data'  \\\n",
      "0  b'testing batch 1 of 1'  [158, 159, 165, 166, 160, 156, 162, 159, 158, ...   \n",
      "1  b'testing batch 1 of 1'  [235, 231, 232, 232, 232, 232, 232, 232, 232, ...   \n",
      "2  b'testing batch 1 of 1'  [158, 158, 139, 132, 166, 182, 187, 193, 199, ...   \n",
      "3  b'testing batch 1 of 1'  [155, 167, 176, 190, 177, 166, 168, 166, 170, ...   \n",
      "4  b'testing batch 1 of 1'  [65, 70, 48, 30, 23, 40, 44, 45, 45, 40, 10, 1...   \n",
      "\n",
      "                   b'filenames'  b'labels'  is_test  \n",
      "0  b'domestic_cat_s_000907.png'          3     True  \n",
      "1     b'hydrofoil_s_000078.png'          8     True  \n",
      "2      b'sea_boat_s_001456.png'          8     True  \n",
      "3      b'jetliner_s_001705.png'          0     True  \n",
      "4    b'green_frog_s_001658.png'          6     True  \n",
      "                 b'batch_label'  \\\n",
      "59995  b'training batch 1 of 5'   \n",
      "59996  b'training batch 1 of 5'   \n",
      "59997  b'training batch 1 of 5'   \n",
      "59998  b'training batch 1 of 5'   \n",
      "59999  b'training batch 1 of 5'   \n",
      "\n",
      "                                                 b'data'  \\\n",
      "59995  [18, 18, 21, 23, 24, 23, 24, 25, 22, 19, 18, 1...   \n",
      "59996  [235, 240, 249, 253, 254, 253, 254, 254, 179, ...   \n",
      "59997  [71, 60, 74, 73, 87, 125, 179, 231, 250, 252, ...   \n",
      "59998  [250, 254, 211, 64, 61, 60, 55, 54, 55, 59, 65...   \n",
      "59999  [62, 61, 60, 59, 94, 123, 140, 105, 58, 57, 61...   \n",
      "\n",
      "                     b'filenames'  b'labels'  is_test  \n",
      "59995       b'tabby_s_002228.png'          3    False  \n",
      "59996       b'truck_s_000036.png'          9    False  \n",
      "59997         b'car_s_002296.png'          1    False  \n",
      "59998  b'estate_car_s_001433.png'          1    False  \n",
      "59999         b'cur_s_000170.png'          5    False  \n",
      "True\n"
     ]
    }
   ],
   "source": [
    "df['is_test'] = df[b'batch_label'] == b'testing batch 1 of 1' \n",
    "print(df.info())\n",
    "print(df.head())\n",
    "print(df.tail())\n",
    "print(df[b'filenames'].is_unique)"
   ]
  },
  {
   "cell_type": "markdown",
   "metadata": {},
   "source": [
    "## Reshaping of arrays so they form a valid image"
   ]
  },
  {
   "cell_type": "code",
   "execution_count": 6,
   "metadata": {},
   "outputs": [],
   "source": [
    "import numpy as np\n",
    "\n",
    "\n",
    "def reshape_image(row):\n",
    "    img_array = np.reshape(row[b'data'], (32,32,3), order='F')\n",
    "    img_array = np.swapaxes(img_array, 0, 1)\n",
    "    img_array = img_array / 255\n",
    "    return img_array\n",
    "\n",
    "if not os.path.exists(os.path.join('data','images')):\n",
    "    os.makedirs(os.path.join('data','images'))\n",
    "\n",
    "resized = []\n",
    "\n",
    "df[b'filenames'] = df[b'filenames'].apply(lambda x: x.decode(\"utf-8\"))\n",
    "df[b'labels'] = df[b'labels'].apply(lambda x: int(x))\n",
    "\n",
    "for index, row in df.iterrows():\n",
    "    img_array = reshape_image(row)\n",
    "    np.save(os.path.join('data','images',row[b'filenames']+'.npy'),img_array)\n",
    "\n",
    "index = pd.DataFrame.from_dict({'filename':df[b'filenames'], \n",
    "                                  'label':df[b'labels'], 'is_test':df['is_test']})\n",
    "index.to_csv(os.path.join('data', 'index.csv'))"
   ]
  },
  {
   "cell_type": "markdown",
   "metadata": {},
   "source": [
    "## Checking if image looks ok"
   ]
  },
  {
   "cell_type": "code",
   "execution_count": 9,
   "metadata": {},
   "outputs": [
    {
     "name": "stdout",
     "output_type": "stream",
     "text": [
      "domestic_cat_s_000907.png\n"
     ]
    },
    {
     "data": {
      "image/png": "[encoded data removed]",
      "text/plain": [
       "<Figure size 432x288 with 1 Axes>"
      ]
     },
     "metadata": {},
     "output_type": "display_data"
    }
   ],
   "source": [
    "import matplotlib.pyplot as plt\n",
    "\n",
    "index_loaded = pd.read_csv(os.path.join('data', 'index.csv'))\n",
    "img = np.load(os.path.join('data','images',index_loaded['filename'].loc[0]+'.npy'))\n",
    "plt.imshow(img)\n",
    "print(index_loaded['filename'].loc[0])"
   ]
  }
 ],
 "metadata": {
  "kernelspec": {
   "display_name": "Python 3",
   "language": "python",
   "name": "python3"
  },
  "language_info": {
   "codemirror_mode": {
    "name": "ipython",
    "version": 3
   },
   "file_extension": ".py",
   "mimetype": "text/x-python",
   "name": "python",
   "nbconvert_exporter": "python",
   "pygments_lexer": "ipython3",
   "version": "3.5.2"
  }
 },
 "nbformat": 4,
 "nbformat_minor": 2
}
